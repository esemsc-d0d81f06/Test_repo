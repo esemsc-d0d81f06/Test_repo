{
  "nbformat": 4,
  "nbformat_minor": 0,
  "metadata": {
    "colab": {
      "provenance": [],
      "gpuType": "T4",
      "collapsed_sections": [
        "01AO6HK0u_m4"
      ]
    },
    "kernelspec": {
      "name": "python3",
      "display_name": "Python 3"
    },
    "language_info": {
      "name": "python"
    },
    "accelerator": "GPU"
  },
  "cells": [
    {
      "cell_type": "markdown",
      "source": [
        "<img src=\"https://drive.google.com/uc?id=1YLNtm8gNsviTEnVXzfiby2VMKrc0XzLP\" width=\"500\"/>\n",
        "\n",
        "\n",
        "---\n"
      ],
      "metadata": {
        "id": "9YehS8enAmDn"
      }
    },
    {
      "cell_type": "markdown",
      "source": [
        "# **Deep learning module introduction**\n",
        "\n",
        "#### **Morning contents/agenda**\n",
        "\n",
        "0. Start at the end\n",
        "\n",
        "1. Description of the module's contents, materials and resources:\n",
        "  - github repository\n",
        "  - schedule and assessments\n",
        "  - teaching team\n",
        "\n",
        "2. Google Colab introduction\n",
        "\n",
        "3. Deep learning?\n",
        "\n",
        "4. Why `PyTorch`?\n",
        "\n",
        "5. A simple feed-forward network (FFN) with `PyTorch`\n",
        "\n",
        "#### **Learning outcomes**\n",
        "\n",
        "1. Overview the module contents and how they will be delivered\n",
        "\n",
        "2. Understand the assessment process for the module\n",
        "\n",
        "3. First contact with `PyTorch` and FFNs\n",
        "\n",
        "<br>\n",
        "\n",
        "\n",
        "#### **Afternoon contents/agenda**\n",
        "\n",
        "1. https://playground.tensorflow.org\n",
        "\n",
        "2. Improving our simpleFFN\n",
        "\n",
        "#### **Learning outcomes**\n",
        "\n",
        "1. Understand the effect of different network configurations with tensorflow\n",
        "\n",
        "2. Break the morning example and raise questions about how `PyTorch` works.\n",
        "\n",
        "\n",
        "<br/>\n",
        "\n",
        "---\n",
        "\n",
        "<br/>\n"
      ],
      "metadata": {
        "id": "J-VVpU1MJJOB"
      }
    },
    {
      "cell_type": "markdown",
      "source": [
        "## 1. Tensorflow exercises"
      ],
      "metadata": {
        "id": "sinIebTtMUvs"
      }
    },
    {
      "cell_type": "code",
      "source": [
        "%%html\n",
        "<iframe src=\"https://playground.tensorflow.org\" width=\"1200\" height=\"700\"></iframe>\n"
      ],
      "metadata": {
        "colab": {
          "base_uri": "https://localhost:8080/",
          "height": 725
        },
        "id": "Wq0gHzpaJqvd",
        "outputId": "0a7865fd-3fa9-4820-f88c-e075d57c4b90"
      },
      "execution_count": null,
      "outputs": [
        {
          "output_type": "display_data",
          "data": {
            "text/plain": [
              "<IPython.core.display.HTML object>"
            ],
            "text/html": [
              "<iframe src=\"https://playground.tensorflow.org\" width=\"1200\" height=\"700\"></iframe>\n"
            ]
          },
          "metadata": {}
        }
      ]
    },
    {
      "cell_type": "markdown",
      "source": [
        "Unless otherwise indicated, we work with the following hyper-parameters:\n",
        "Learning rate =0.03, Batch Size=10, Noise=0, Training Data=70%.\n",
        "\n",
        "Since there is a total of 500 data points, there are 350 (or 70%) training data and 150 test data.\n",
        "\n",
        "We examine the behaviour of the networks until about 3500 epochs.\n",
        "\n",
        "It is important to note that there will be differences between different runs obtained with the same hyperparameters, because the initial values of the neural network parameters (weights and bias terms) are sampled randomly.\n",
        "\n",
        "The dataset itself may also change if you click the Regenerate Button at the bottom left of the screen.\n",
        "\n",
        "We work on a classification problem on the Spiral dataset. The yellow dots have a value of -1 and the blue dots have a value of +1.\n",
        "\n",
        "\n",
        "\n"
      ],
      "metadata": {
        "id": "yojhzj6cLxp1"
      }
    },
    {
      "cell_type": "markdown",
      "source": [
        "#### **Question 1:**\n",
        "Use the sigmoid activation function and no hidden layer. What do you observe? How do you interpret it?\n",
        "\n",
        "---"
      ],
      "metadata": {
        "id": "563F2iseLxpm"
      }
    },
    {
      "cell_type": "markdown",
      "source": [
        "#### **Question 2:**\n",
        "Now put just one hidden layer, a sigmoid activation function, and make the number of neurons in the hidden layer equal to 4. Then make it equal to the maximum offered by the application, that is 8. What is the number of trained parameters and what do you observe in each case?\n",
        "\n",
        "---"
      ],
      "metadata": {
        "id": "2QOO1cr-L4__"
      }
    },
    {
      "cell_type": "markdown",
      "source": [
        "#### **Question 3:**\n",
        "Now do the same as in question 2, but using the ReLU activation function. What do you observe?\n",
        "\n",
        "---"
      ],
      "metadata": {
        "id": "LCAFZMY1L48J"
      }
    },
    {
      "cell_type": "markdown",
      "source": [
        "#### **Question 4:**\n",
        "Now use two hidden layers each with four neurons and the ReLU activation function. How many trained parameters do you have? What do you observe?\n",
        "\n",
        "---"
      ],
      "metadata": {
        "id": "Ny7l5SQPL452"
      }
    },
    {
      "cell_type": "markdown",
      "source": [
        "#### **Question 5:**\n",
        "Now try two hidden layers with 8 neurons each and a ReLU activation function. How many trained parameters do you have? What do you observe?\n",
        "\n",
        "---"
      ],
      "metadata": {
        "id": "w5bQvkz_L43m"
      }
    },
    {
      "cell_type": "markdown",
      "source": [
        "#### **Question 6:**\n",
        "Now try three hidden layers with 8 neurons each. What happens if you compare sigmoid and ReLU?\n",
        "\n",
        "---"
      ],
      "metadata": {
        "id": "T6hCgRTVL41p"
      }
    },
    {
      "cell_type": "markdown",
      "source": [
        "#### **Question 7:**\n",
        "Now keep the three layers with 8 neurons and change the batch size to 30, and then 1. What happens if you use ReLU?\n",
        "\n",
        "---\n"
      ],
      "metadata": {
        "id": "VEkDEuaLL4zt"
      }
    },
    {
      "cell_type": "markdown",
      "source": [
        "#### **Question 8:**\n",
        "Now that we have obtained a good model see what happens if you introduce all the 7 input variables\n",
        "\n",
        "---\n"
      ],
      "metadata": {
        "id": "oYtvkNlPL4xP"
      }
    },
    {
      "cell_type": "markdown",
      "source": [
        "#### **Question 9:**\n",
        "Now assume that the data are affected by noise. Just use the maximum noise value of 50. The application is not very clear about the mechanism by which the noise affects the initial data classes. This does not matter, just assume that, after introducing this noise value of 50, you are now dealing with new binary class values at each point. What do you observe?\n"
      ],
      "metadata": {
        "id": "k9xrDsxCL4ub"
      }
    },
    {
      "cell_type": "markdown",
      "source": [
        "<br>\n",
        "\n",
        "---\n",
        "\n",
        "<br>"
      ],
      "metadata": {
        "id": "WIxthEMANlZd"
      }
    },
    {
      "cell_type": "markdown",
      "source": [
        "## 2. `simpleFFN` exercise\n",
        "\n",
        "Try to improve the performance of the network we implemented this morning. A few ideas and hints:\n",
        "\n",
        "- modify the simpleFFN class to add more layers\n",
        "- play with the sizes of the layers\n",
        "- **don't touch** the train, validation, and evaluate functions\n",
        "- anything else you see fit\n",
        "\n",
        "I recommend that you copy-paste the code from this morning here, and then play editing it."
      ],
      "metadata": {
        "id": "l2jKgoThOnO8"
      }
    },
    {
      "cell_type": "markdown",
      "source": [
        "#### **Possible solution**:\n",
        "\n",
        "Let's copy the code from this morning and add modifications."
      ],
      "metadata": {
        "id": "PAmrGf8ZekQY"
      }
    },
    {
      "cell_type": "markdown",
      "source": [
        "### Code definition - Skip to Network training for now"
      ],
      "metadata": {
        "id": "01AO6HK0u_m4"
      }
    },
    {
      "cell_type": "code",
      "source": [
        "import torch\n",
        "\n",
        "device = 'cpu'\n",
        "if torch.cuda.device_count() > 0 and torch.cuda.is_available():\n",
        "    print(\"Cuda installed! Running on GPU!\")\n",
        "    device = 'cuda'\n",
        "else:\n",
        "    print(\"No GPU available!\")\n",
        "    device = 'cpu'"
      ],
      "metadata": {
        "colab": {
          "base_uri": "https://localhost:8080/"
        },
        "id": "fG3AokmmEXlv",
        "outputId": "a899b21c-f1ec-4995-e876-f21e33d23f34"
      },
      "execution_count": 3,
      "outputs": [
        {
          "output_type": "stream",
          "name": "stdout",
          "text": [
            "Cuda installed! Running on GPU!\n"
          ]
        }
      ]
    },
    {
      "cell_type": "code",
      "source": [
        "!pip install pycm livelossplot\n",
        "%pylab inline\n",
        "\n",
        "# Let's start by importing some Python and `Pytorch` libraries and define a random seed to be able to replicate our results.\n",
        "from sklearn.metrics import accuracy_score\n",
        "from sklearn.model_selection import StratifiedShuffleSplit\n",
        "\n",
        "from livelossplot import PlotLosses\n",
        "from pycm import *\n",
        "\n",
        "import torch\n",
        "import torch.nn as nn\n",
        "import torch.nn.functional as F\n",
        "from torch.utils.data import TensorDataset, DataLoader\n",
        "import torchvision.transforms as transforms\n",
        "from torchvision.datasets import MNIST\n",
        "from torchsummary import summary\n",
        "\n",
        "def set_seed(seed):\n",
        "    \"\"\"\n",
        "    Use this to set ALL the random seeds to a fixed value and take out any randomness from cuda kernels\n",
        "    \"\"\"\n",
        "    random.seed(seed)\n",
        "    np.random.seed(seed)\n",
        "    torch.manual_seed(seed)\n",
        "    torch.cuda.manual_seed_all(seed)\n",
        "\n",
        "    torch.backends.cudnn.benchmark = False  # uses the inbuilt cudnn auto-tuner to find the fastest convolution algorithms. Useful when inputs do not change size -\n",
        "    torch.backends.cudnn.enabled   = False\n",
        "\n",
        "    return True"
      ],
      "metadata": {
        "colab": {
          "base_uri": "https://localhost:8080/"
        },
        "id": "op6Hlylx62Is",
        "outputId": "4e078c13-dd4c-4914-d73b-d2ae3d71f55a"
      },
      "execution_count": 4,
      "outputs": [
        {
          "output_type": "stream",
          "name": "stdout",
          "text": [
            "Collecting pycm\n",
            "  Downloading pycm-4.1-py3-none-any.whl.metadata (49 kB)\n",
            "\u001b[?25l     \u001b[90m━━━━━━━━━━━━━━━━━━━━━━━━━━━━━━━━━━━━━━━━\u001b[0m \u001b[32m0.0/49.1 kB\u001b[0m \u001b[31m?\u001b[0m eta \u001b[36m-:--:--\u001b[0m\r\u001b[2K     \u001b[90m━━━━━━━━━━━━━━━━━━━━━━━━━━━━━━━━━━━━━━━━\u001b[0m \u001b[32m49.1/49.1 kB\u001b[0m \u001b[31m4.2 MB/s\u001b[0m eta \u001b[36m0:00:00\u001b[0m\n",
            "\u001b[?25hCollecting livelossplot\n",
            "  Downloading livelossplot-0.5.5-py3-none-any.whl.metadata (8.7 kB)\n",
            "Collecting art>=1.8 (from pycm)\n",
            "  Downloading art-6.3-py3-none-any.whl.metadata (70 kB)\n",
            "\u001b[2K     \u001b[90m━━━━━━━━━━━━━━━━━━━━━━━━━━━━━━━━━━━━━━━━\u001b[0m \u001b[32m70.4/70.4 kB\u001b[0m \u001b[31m6.8 MB/s\u001b[0m eta \u001b[36m0:00:00\u001b[0m\n",
            "\u001b[?25hRequirement already satisfied: numpy>=1.9.0 in /usr/local/lib/python3.10/dist-packages (from pycm) (1.26.4)\n",
            "Requirement already satisfied: matplotlib in /usr/local/lib/python3.10/dist-packages (from livelossplot) (3.8.0)\n",
            "Requirement already satisfied: bokeh in /usr/local/lib/python3.10/dist-packages (from livelossplot) (3.6.1)\n",
            "Requirement already satisfied: Jinja2>=2.9 in /usr/local/lib/python3.10/dist-packages (from bokeh->livelossplot) (3.1.4)\n",
            "Requirement already satisfied: contourpy>=1.2 in /usr/local/lib/python3.10/dist-packages (from bokeh->livelossplot) (1.3.1)\n",
            "Requirement already satisfied: packaging>=16.8 in /usr/local/lib/python3.10/dist-packages (from bokeh->livelossplot) (24.2)\n",
            "Requirement already satisfied: pandas>=1.2 in /usr/local/lib/python3.10/dist-packages (from bokeh->livelossplot) (2.2.2)\n",
            "Requirement already satisfied: pillow>=7.1.0 in /usr/local/lib/python3.10/dist-packages (from bokeh->livelossplot) (11.0.0)\n",
            "Requirement already satisfied: PyYAML>=3.10 in /usr/local/lib/python3.10/dist-packages (from bokeh->livelossplot) (6.0.2)\n",
            "Requirement already satisfied: tornado>=6.2 in /usr/local/lib/python3.10/dist-packages (from bokeh->livelossplot) (6.3.3)\n",
            "Requirement already satisfied: xyzservices>=2021.09.1 in /usr/local/lib/python3.10/dist-packages (from bokeh->livelossplot) (2024.9.0)\n",
            "Requirement already satisfied: cycler>=0.10 in /usr/local/lib/python3.10/dist-packages (from matplotlib->livelossplot) (0.12.1)\n",
            "Requirement already satisfied: fonttools>=4.22.0 in /usr/local/lib/python3.10/dist-packages (from matplotlib->livelossplot) (4.55.0)\n",
            "Requirement already satisfied: kiwisolver>=1.0.1 in /usr/local/lib/python3.10/dist-packages (from matplotlib->livelossplot) (1.4.7)\n",
            "Requirement already satisfied: pyparsing>=2.3.1 in /usr/local/lib/python3.10/dist-packages (from matplotlib->livelossplot) (3.2.0)\n",
            "Requirement already satisfied: python-dateutil>=2.7 in /usr/local/lib/python3.10/dist-packages (from matplotlib->livelossplot) (2.8.2)\n",
            "Requirement already satisfied: MarkupSafe>=2.0 in /usr/local/lib/python3.10/dist-packages (from Jinja2>=2.9->bokeh->livelossplot) (3.0.2)\n",
            "Requirement already satisfied: pytz>=2020.1 in /usr/local/lib/python3.10/dist-packages (from pandas>=1.2->bokeh->livelossplot) (2024.2)\n",
            "Requirement already satisfied: tzdata>=2022.7 in /usr/local/lib/python3.10/dist-packages (from pandas>=1.2->bokeh->livelossplot) (2024.2)\n",
            "Requirement already satisfied: six>=1.5 in /usr/local/lib/python3.10/dist-packages (from python-dateutil>=2.7->matplotlib->livelossplot) (1.16.0)\n",
            "Downloading pycm-4.1-py3-none-any.whl (70 kB)\n",
            "\u001b[2K   \u001b[90m━━━━━━━━━━━━━━━━━━━━━━━━━━━━━━━━━━━━━━━━\u001b[0m \u001b[32m70.3/70.3 kB\u001b[0m \u001b[31m6.6 MB/s\u001b[0m eta \u001b[36m0:00:00\u001b[0m\n",
            "\u001b[?25hDownloading livelossplot-0.5.5-py3-none-any.whl (22 kB)\n",
            "Downloading art-6.3-py3-none-any.whl (606 kB)\n",
            "\u001b[2K   \u001b[90m━━━━━━━━━━━━━━━━━━━━━━━━━━━━━━━━━━━━━━━━\u001b[0m \u001b[32m606.3/606.3 kB\u001b[0m \u001b[31m35.8 MB/s\u001b[0m eta \u001b[36m0:00:00\u001b[0m\n",
            "\u001b[?25hInstalling collected packages: art, pycm, livelossplot\n",
            "Successfully installed art-6.3 livelossplot-0.5.5 pycm-4.1\n",
            "Populating the interactive namespace from numpy and matplotlib\n"
          ]
        },
        {
          "output_type": "stream",
          "name": "stderr",
          "text": [
            "/usr/local/lib/python3.10/dist-packages/IPython/core/magics/pylab.py:159: UserWarning: pylab import has clobbered these variables: ['seed']\n",
            "`%matplotlib` prevents importing * from pylab and numpy\n",
            "  warn(\"pylab import has clobbered these variables: %s\"  % clobbered +\n"
          ]
        }
      ]
    },
    {
      "cell_type": "markdown",
      "source": [
        "We create a class called `simpleFFN` and we test that it reads an input and gives us an output:"
      ],
      "metadata": {
        "id": "V2eAOGGX5S4o"
      }
    },
    {
      "cell_type": "code",
      "source": [
        "class simpleFFN(nn.Module):\n",
        "  def __init__(self, num_hidden=(200, 50), bias=False, activation=nn.Sigmoid):\n",
        "    super(simpleFFN, self).__init__()\n",
        "\n",
        "    hidden_input = 784\n",
        "    self.len_hidden = len(num_hidden)\n",
        "    for idx, n in enumerate(num_hidden):\n",
        "        setattr(self, 'hidden_%d' % idx, nn.Linear(hidden_input, n, bias=bias))\n",
        "        hidden_input = n\n",
        "    self.output = nn.Linear(hidden_input, 10, bias=bias)\n",
        "\n",
        "    self.activation = activation()\n",
        "\n",
        "  def forward(self, x):\n",
        "    for idx in range(self.len_hidden):\n",
        "        hidden = getattr(self, 'hidden_%d' % idx)\n",
        "        z = hidden(x)\n",
        "        x = self.activation(z)\n",
        "    z = self.output(x)\n",
        "    o = self.activation(z)\n",
        "    return o\n",
        "\n",
        "x = torch.randn((1, 1, 784))\n",
        "model_test = simpleFFN()\n",
        "y = model_test(x)\n",
        "print(y)\n",
        "print(model_test)\n",
        "\n"
      ],
      "metadata": {
        "colab": {
          "base_uri": "https://localhost:8080/"
        },
        "outputId": "266017e6-ccf1-4d60-bdec-cdda3cf403f2",
        "id": "9PIPSnB2Cnwm"
      },
      "execution_count": 5,
      "outputs": [
        {
          "output_type": "stream",
          "name": "stdout",
          "text": [
            "tensor([[[0.4992, 0.5674, 0.4413, 0.4076, 0.3702, 0.5090, 0.5431, 0.5199,\n",
            "          0.4851, 0.4163]]], grad_fn=<SigmoidBackward0>)\n",
            "simpleFFN(\n",
            "  (hidden_0): Linear(in_features=784, out_features=200, bias=False)\n",
            "  (hidden_1): Linear(in_features=200, out_features=50, bias=False)\n",
            "  (output): Linear(in_features=50, out_features=10, bias=False)\n",
            "  (activation): Sigmoid()\n",
            ")\n"
          ]
        }
      ]
    },
    {
      "cell_type": "markdown",
      "source": [
        "We download the MNIST dataset:"
      ],
      "metadata": {
        "id": "MEmcu1WqCnwn"
      }
    },
    {
      "cell_type": "code",
      "source": [
        "mnist_train = MNIST(\"./\", download=True, train=True)\n",
        "mnist_test = MNIST(\"./\", download=True, train=False)"
      ],
      "metadata": {
        "colab": {
          "base_uri": "https://localhost:8080/"
        },
        "id": "my1VKR0bCnwn",
        "outputId": "dfbe223a-1c55-4969-968a-60b30b06bb59"
      },
      "execution_count": 6,
      "outputs": [
        {
          "output_type": "stream",
          "name": "stdout",
          "text": [
            "Downloading http://yann.lecun.com/exdb/mnist/train-images-idx3-ubyte.gz\n",
            "Failed to download (trying next):\n",
            "HTTP Error 403: Forbidden\n",
            "\n",
            "Downloading https://ossci-datasets.s3.amazonaws.com/mnist/train-images-idx3-ubyte.gz\n",
            "Downloading https://ossci-datasets.s3.amazonaws.com/mnist/train-images-idx3-ubyte.gz to ./MNIST/raw/train-images-idx3-ubyte.gz\n"
          ]
        },
        {
          "output_type": "stream",
          "name": "stderr",
          "text": [
            "100%|██████████| 9.91M/9.91M [00:10<00:00, 902kB/s] \n"
          ]
        },
        {
          "output_type": "stream",
          "name": "stdout",
          "text": [
            "Extracting ./MNIST/raw/train-images-idx3-ubyte.gz to ./MNIST/raw\n",
            "\n",
            "Downloading http://yann.lecun.com/exdb/mnist/train-labels-idx1-ubyte.gz\n",
            "Failed to download (trying next):\n",
            "HTTP Error 403: Forbidden\n",
            "\n",
            "Downloading https://ossci-datasets.s3.amazonaws.com/mnist/train-labels-idx1-ubyte.gz\n",
            "Downloading https://ossci-datasets.s3.amazonaws.com/mnist/train-labels-idx1-ubyte.gz to ./MNIST/raw/train-labels-idx1-ubyte.gz\n"
          ]
        },
        {
          "output_type": "stream",
          "name": "stderr",
          "text": [
            "100%|██████████| 28.9k/28.9k [00:00<00:00, 133kB/s]\n"
          ]
        },
        {
          "output_type": "stream",
          "name": "stdout",
          "text": [
            "Extracting ./MNIST/raw/train-labels-idx1-ubyte.gz to ./MNIST/raw\n",
            "\n",
            "Downloading http://yann.lecun.com/exdb/mnist/t10k-images-idx3-ubyte.gz\n",
            "Failed to download (trying next):\n",
            "HTTP Error 403: Forbidden\n",
            "\n",
            "Downloading https://ossci-datasets.s3.amazonaws.com/mnist/t10k-images-idx3-ubyte.gz\n",
            "Downloading https://ossci-datasets.s3.amazonaws.com/mnist/t10k-images-idx3-ubyte.gz to ./MNIST/raw/t10k-images-idx3-ubyte.gz\n"
          ]
        },
        {
          "output_type": "stream",
          "name": "stderr",
          "text": [
            "100%|██████████| 1.65M/1.65M [00:01<00:00, 1.27MB/s]\n"
          ]
        },
        {
          "output_type": "stream",
          "name": "stdout",
          "text": [
            "Extracting ./MNIST/raw/t10k-images-idx3-ubyte.gz to ./MNIST/raw\n",
            "\n",
            "Downloading http://yann.lecun.com/exdb/mnist/t10k-labels-idx1-ubyte.gz\n",
            "Failed to download (trying next):\n",
            "HTTP Error 403: Forbidden\n",
            "\n",
            "Downloading https://ossci-datasets.s3.amazonaws.com/mnist/t10k-labels-idx1-ubyte.gz\n",
            "Downloading https://ossci-datasets.s3.amazonaws.com/mnist/t10k-labels-idx1-ubyte.gz to ./MNIST/raw/t10k-labels-idx1-ubyte.gz\n"
          ]
        },
        {
          "output_type": "stream",
          "name": "stderr",
          "text": [
            "100%|██████████| 4.54k/4.54k [00:00<00:00, 10.9MB/s]"
          ]
        },
        {
          "output_type": "stream",
          "name": "stdout",
          "text": [
            "Extracting ./MNIST/raw/t10k-labels-idx1-ubyte.gz to ./MNIST/raw\n",
            "\n"
          ]
        },
        {
          "output_type": "stream",
          "name": "stderr",
          "text": [
            "\n"
          ]
        }
      ]
    },
    {
      "cell_type": "markdown",
      "source": [
        "We split the data in training, validation, and test sets:"
      ],
      "metadata": {
        "id": "pbALmvh_Cnwn"
      }
    },
    {
      "cell_type": "code",
      "source": [
        "# split the data\n",
        "shuffler = StratifiedShuffleSplit(n_splits=1, test_size=0.1, random_state=42).split(mnist_train.train_data, mnist_train.train_labels)\n",
        "indices = [(train_idx, validation_idx) for train_idx, validation_idx in shuffler][0]"
      ],
      "metadata": {
        "colab": {
          "base_uri": "https://localhost:8080/"
        },
        "outputId": "aefd6f8f-06f6-496a-8d93-b63bc03555fd",
        "id": "vJqKx2i8Cnwn"
      },
      "execution_count": 7,
      "outputs": [
        {
          "output_type": "stream",
          "name": "stderr",
          "text": [
            "/usr/local/lib/python3.10/dist-packages/torchvision/datasets/mnist.py:76: UserWarning: train_data has been renamed data\n",
            "  warnings.warn(\"train_data has been renamed data\")\n",
            "/usr/local/lib/python3.10/dist-packages/torchvision/datasets/mnist.py:66: UserWarning: train_labels has been renamed targets\n",
            "  warnings.warn(\"train_labels has been renamed targets\")\n"
          ]
        }
      ]
    },
    {
      "cell_type": "markdown",
      "source": [
        "We standardise the data.\n",
        "\n",
        "\\[***NOTE***:\n",
        "*As we will see in the coming weeks, even though this step is not strictly necessary, it does result in better performance because we are assuming that our data has some underlying Gaussian distribution (the errors rather). In general, it is good practice to standardise our data as it improves convergence speed and results in better generalisation.*\\]"
      ],
      "metadata": {
        "id": "YTLuHtCNCnwn"
      }
    },
    {
      "cell_type": "code",
      "source": [
        "def apply_standardization(X): # define an standardisation function\n",
        "  X /= 255.\n",
        "  X -= 0.1307\n",
        "  X /= 0.3081\n",
        "  return X\n",
        "\n",
        "# standardise the data\n",
        "X_train, y_train = apply_standardization(mnist_train.train_data[indices[0]].float()), mnist_train.train_labels[indices[0]]\n",
        "X_val, y_val = apply_standardization(mnist_train.train_data[indices[1]].float()), mnist_train.train_labels[indices[1]]\n",
        "X_test, y_test =  apply_standardization(mnist_test.test_data.float()), mnist_test.test_labels"
      ],
      "metadata": {
        "colab": {
          "base_uri": "https://localhost:8080/"
        },
        "outputId": "b075ab97-07ff-4624-e192-41e8ddf7071f",
        "id": "dam52OuxCnwo"
      },
      "execution_count": 8,
      "outputs": [
        {
          "output_type": "stream",
          "name": "stderr",
          "text": [
            "/usr/local/lib/python3.10/dist-packages/torchvision/datasets/mnist.py:76: UserWarning: train_data has been renamed data\n",
            "  warnings.warn(\"train_data has been renamed data\")\n",
            "/usr/local/lib/python3.10/dist-packages/torchvision/datasets/mnist.py:66: UserWarning: train_labels has been renamed targets\n",
            "  warnings.warn(\"train_labels has been renamed targets\")\n",
            "/usr/local/lib/python3.10/dist-packages/torchvision/datasets/mnist.py:81: UserWarning: test_data has been renamed data\n",
            "  warnings.warn(\"test_data has been renamed data\")\n",
            "/usr/local/lib/python3.10/dist-packages/torchvision/datasets/mnist.py:71: UserWarning: test_labels has been renamed targets\n",
            "  warnings.warn(\"test_labels has been renamed targets\")\n"
          ]
        }
      ]
    },
    {
      "cell_type": "markdown",
      "source": [
        "We create TensorDatasets (more on this on the next two days):"
      ],
      "metadata": {
        "id": "QL6SeH9sCnwo"
      }
    },
    {
      "cell_type": "code",
      "source": [
        "# create the TensorDatasets containing mnist_train, mnist_validate, and mnist_test\n",
        "mnist_train = TensorDataset(X_train, y_train.long())\n",
        "mnist_validate = TensorDataset(X_val, y_val.long())\n",
        "mnist_test = TensorDataset(X_test, y_test.long())"
      ],
      "metadata": {
        "id": "AHrTKLxiCnwo"
      },
      "execution_count": 9,
      "outputs": []
    },
    {
      "cell_type": "markdown",
      "source": [
        "And we plot one of the elements of the training set (to check we loaded the data correctly)"
      ],
      "metadata": {
        "id": "1pqPlkZQCnwo"
      }
    },
    {
      "cell_type": "code",
      "source": [
        "plt.imshow(X_train[11], cmap = 'gray')\n",
        "print(X_train.mean(), X_train.std())"
      ],
      "metadata": {
        "colab": {
          "base_uri": "https://localhost:8080/",
          "height": 448
        },
        "outputId": "647d47ab-125b-49a2-e11d-6796bd6bdb21",
        "id": "l_nMkW9JCnwo"
      },
      "execution_count": 10,
      "outputs": [
        {
          "output_type": "stream",
          "name": "stdout",
          "text": [
            "tensor(0.0001) tensor(1.0003)\n"
          ]
        },
        {
          "output_type": "display_data",
          "data": {
            "text/plain": [
              "<Figure size 640x480 with 1 Axes>"
            ],
            "image/png": "[encoded data removed]"
          },
          "metadata": {}
        }
      ]
    },
    {
      "cell_type": "markdown",
      "source": [
        "Now we are going to define functions to train and validate our network:"
      ],
      "metadata": {
        "id": "Roh6cs3yCnwo"
      }
    },
    {
      "cell_type": "code",
      "source": [
        "def train(model, optimizer, criterion, data_loader):\n",
        "    model.train()                         # the model is in the training mode so the parameters(weights)to be optimised will be updated\n",
        "    train_loss, train_accuracy = 0, 0     # initialise loss and accuracy to 0 for training\n",
        "    for X, y in data_loader:              # iterate over the mini-batches defined in the data loader\n",
        "        X, y = X.to(device), y.to(device) # send data to the device (GPU in our case)\n",
        "        optimizer.zero_grad()             # resetting optimiser info\n",
        "        a2 = model(X.view(-1, 28*28))     # forward pass\n",
        "        loss = criterion(a2, y)           # compute loss\n",
        "        loss.backward()                   # backpropagation to calculate the gradients\n",
        "        train_loss += loss*X.size(0)      # # add it up for different mini-batches and undo loss normalisation\n",
        "        y_pred = F.log_softmax(a2, dim=1).max(1)[1]  # get predictions\n",
        "        train_accuracy += accuracy_score(y.cpu().numpy(), y_pred.detach().cpu().numpy())*X.size(0) # compute accuracy\n",
        "        optimizer.step()                  # perform a step of gradient descent\n",
        "\n",
        "    return train_loss/len(data_loader.dataset), train_accuracy/len(data_loader.dataset)  # here we can average over the whole dataset\n",
        "\n",
        "\n",
        "def validate(model, criterion, data_loader):      # does not need optimiser\n",
        "    model.eval()                                  # model is set to evaluation mode so no dropout or any other funny stuff here\n",
        "    validation_loss, validation_accuracy = 0., 0. # initialise loss and accuracy to 0 for training\n",
        "    for X, y in data_loader:                      # iterate over the mini-batches defined in the data loader\n",
        "        with torch.no_grad():                     # deactivates autograd engine\n",
        "            X, y = X.to(device), y.to(device)     # send data to the device (GPU in our case)\n",
        "            a2 = model(X.view(-1, 28*28))         # forward pass\n",
        "            loss = criterion(a2, y)               # evaluate loss\n",
        "            validation_loss += loss*X.size(0)     # add it up for different mini-batches and undo loss normalisation\n",
        "            y_pred = F.log_softmax(a2, dim=1).max(1)[1]  # get predictions\n",
        "            validation_accuracy += accuracy_score(y.cpu().numpy(), y_pred.cpu().numpy())*X.size(0) # compute accuracy\n",
        "\n",
        "    return validation_loss/len(data_loader.dataset), validation_accuracy/len(data_loader.dataset)  # here we can average over the whole dataset"
      ],
      "metadata": {
        "id": "R2nBDkChCnwo"
      },
      "execution_count": 11,
      "outputs": []
    },
    {
      "cell_type": "markdown",
      "source": [
        "In order to figure out how good it is, we need to implement an evaluate function:"
      ],
      "metadata": {
        "id": "0gdEKoBYx_5C"
      }
    },
    {
      "cell_type": "code",
      "source": [
        "def evaluate(model, data_loader):\n",
        "    model.eval()\n",
        "    ys, y_preds = [], []\n",
        "    for X, y in data_loader:\n",
        "        with torch.no_grad():\n",
        "            X, y = X.to(device), y.to(device) # data and labels to device\n",
        "            a2 = model(X.view(-1, 28*28))     # forward pass and reshape tensor and get it ready to the fully connected layer\n",
        "            y_pred = F.log_softmax(a2, dim=1).max(1)[1] # calculate prediction\n",
        "            ys.append(y.cpu().numpy())        # save predictions\n",
        "            y_preds.append(y_pred.cpu().numpy()) # save predictions\n",
        "\n",
        "    return np.concatenate(y_preds, 0),  np.concatenate(ys, 0) ## concatenate the labels of each batch into a single list"
      ],
      "metadata": {
        "id": "uRRutgRTyBBD"
      },
      "execution_count": 12,
      "outputs": []
    },
    {
      "cell_type": "markdown",
      "source": [
        "Let's also create a function to instantiate our model and send it to the device:"
      ],
      "metadata": {
        "id": "bh4_llah1szt"
      }
    },
    {
      "cell_type": "code",
      "source": [
        "def create_model(*args, **kwargs):\n",
        "    model = simpleFFN(*args, **kwargs).to(device)                                              # instantiate model and send it to the GPU\n",
        "    return model"
      ],
      "metadata": {
        "id": "eKTpCD0A1xi4"
      },
      "execution_count": 13,
      "outputs": []
    },
    {
      "cell_type": "markdown",
      "source": [
        "And now we are ready to train our network:"
      ],
      "metadata": {
        "id": "Z0ySHPxiCnwp"
      }
    },
    {
      "cell_type": "code",
      "source": [
        "def train_loop(model, seed, lr, momentum, batch_size, test_batch_size, n_epochs):\n",
        "    set_seed(seed)\n",
        "    optimizer = torch.optim.SGD(model.parameters(), lr=lr, momentum=momentum)   # instantiate the optimizer\n",
        "    criterion = nn.CrossEntropyLoss()\n",
        "\n",
        "    train_loader = DataLoader(mnist_train, batch_size=batch_size, shuffle=True, num_workers=0) ## num_workers=0 means that the main process will retrieve the data.\n",
        "    validation_loader = DataLoader(mnist_validate, batch_size=test_batch_size, shuffle=False, num_workers=0)\n",
        "    test_loader = DataLoader(mnist_test, batch_size=test_batch_size, shuffle=False, num_workers=0)\n",
        "\n",
        "    liveloss = PlotLosses()    # plots evolution of loss and accuracy\n",
        "    for epoch in range(n_epochs):\n",
        "        logs = {}\n",
        "        train_loss, train_accuracy = train(model, optimizer, criterion, train_loader)\n",
        "\n",
        "        logs['' + 'log loss'] = train_loss.item()\n",
        "        logs['' + 'accuracy'] = train_accuracy\n",
        "\n",
        "        validation_loss, validation_accuracy = validate(model, criterion, validation_loader)\n",
        "        logs['val_' + 'log loss'] = validation_loss.item()\n",
        "        logs['val_' + 'accuracy'] = validation_accuracy\n",
        "\n",
        "        liveloss.update(logs)\n",
        "        liveloss.draw()\n",
        "        print(validation_loss.item())\n",
        "\n",
        "    return train_loader, validation_loader, test_loader"
      ],
      "metadata": {
        "id": "enCQN0BMCnwp"
      },
      "execution_count": 14,
      "outputs": []
    },
    {
      "cell_type": "markdown",
      "source": [
        "### Network training\n",
        "\n",
        "Select the hyperparameters of our training (we will learn what each of these does during our second lecture):"
      ],
      "metadata": {
        "id": "6APeIM-9xpe1"
      }
    },
    {
      "cell_type": "code",
      "source": [
        "seed = 42 ## ## keep at that if you want to get almost the exact same results (down to numerical precision I guess)\n",
        "lr = 1e-2 ##\n",
        "momentum = 0.9 ##\n",
        "batch_size = 64 ##\n",
        "test_batch_size = 1000 ##\n",
        "n_epochs = 30 ##"
      ],
      "metadata": {
        "id": "72ZUlHzUxxvg"
      },
      "execution_count": 23,
      "outputs": []
    },
    {
      "cell_type": "markdown",
      "source": [
        "Select the hyperparameters of our network:"
      ],
      "metadata": {
        "id": "BmX5f92p3Qsp"
      }
    },
    {
      "cell_type": "code",
      "source": [
        "num_hidden=(400,100,50) ##       # number of neurons in each hidden layer\n",
        "bias= False##             # no bias\n",
        "activation= nn.ReLU##       # sigmoid activation function"
      ],
      "metadata": {
        "id": "KXWjvaO53TPH"
      },
      "execution_count": 30,
      "outputs": []
    },
    {
      "cell_type": "markdown",
      "source": [
        "Let's create our network model:"
      ],
      "metadata": {
        "id": "7reAyl_a3hjT"
      }
    },
    {
      "cell_type": "code",
      "source": [
        "device = torch.device('cuda' if torch.cuda.is_available() else 'cpu')\n",
        "\n",
        "model = create_model(num_hidden, bias=bias, activation=activation) ##\n",
        "print(model)"
      ],
      "metadata": {
        "id": "xFTi_Pg63k9S",
        "outputId": "18be4153-1dd7-4509-a16b-82a8e3d34231",
        "colab": {
          "base_uri": "https://localhost:8080/"
        }
      },
      "execution_count": 31,
      "outputs": [
        {
          "output_type": "stream",
          "name": "stdout",
          "text": [
            "simpleFFN(\n",
            "  (hidden_0): Linear(in_features=784, out_features=400, bias=False)\n",
            "  (hidden_1): Linear(in_features=400, out_features=100, bias=False)\n",
            "  (hidden_2): Linear(in_features=100, out_features=50, bias=False)\n",
            "  (output): Linear(in_features=50, out_features=10, bias=False)\n",
            "  (activation): ReLU()\n",
            ")\n"
          ]
        }
      ]
    },
    {
      "cell_type": "markdown",
      "source": [
        "And now we are ready to train our network and display the evolution in real time:"
      ],
      "metadata": {
        "id": "TzLooDgox1Pr"
      }
    },
    {
      "cell_type": "code",
      "source": [
        "train_loader, validation_loader, test_loader = train_loop(model,seed,lr,momentum,batch_size, test_batch_size,n_epochs) ##"
      ],
      "metadata": {
        "id": "DqL0kT-kx5ix",
        "outputId": "9bd7ee33-a1f0-400e-ac47-f54ccbdc825f",
        "colab": {
          "base_uri": "https://localhost:8080/",
          "height": 934
        }
      },
      "execution_count": 32,
      "outputs": [
        {
          "output_type": "display_data",
          "data": {
            "text/plain": [
              "<Figure size 1200x800 with 2 Axes>"
            ],
            "image/png": "[encoded data removed]"
          },
          "metadata": {}
        },
        {
          "output_type": "stream",
          "name": "stdout",
          "text": [
            "accuracy\n",
            "\ttraining         \t (min:    0.824, max:    1.000, cur:    1.000)\n",
            "\tvalidation       \t (min:    0.947, max:    0.983, cur:    0.983)\n",
            "log loss\n",
            "\ttraining         \t (min:    0.000, max:    0.568, cur:    0.000)\n",
            "\tvalidation       \t (min:    0.085, max:    0.177, cur:    0.099)\n",
            "0.09913685917854309\n"
          ]
        }
      ]
    },
    {
      "cell_type": "markdown",
      "source": [
        "**How does the model perform with respect to before? Why?**"
      ],
      "metadata": {
        "id": "2Qrhqehu-JJB"
      }
    },
    {
      "cell_type": "code",
      "source": [
        "y_pred, y_gt = evaluate(model,test_loader) ##\n",
        "print(y_pred, y_gt)"
      ],
      "metadata": {
        "id": "oqP7pgBhDajX",
        "outputId": "72b61481-dda8-4a01-d0ca-029cddddc6c9",
        "colab": {
          "base_uri": "https://localhost:8080/"
        }
      },
      "execution_count": 33,
      "outputs": [
        {
          "output_type": "stream",
          "name": "stdout",
          "text": [
            "[7 2 1 ... 4 5 6] [7 2 1 ... 4 5 6]\n"
          ]
        }
      ]
    },
    {
      "cell_type": "markdown",
      "source": [
        "Now we want to calculate the confusion matrix of the results we just generated, and plot it:"
      ],
      "metadata": {
        "id": "vnPkH96fDajX"
      }
    },
    {
      "cell_type": "code",
      "source": [
        "from pycm import ConfusionMatrix\n",
        "cm = ConfusionMatrix(y_gt,y_pred) ## ## Create the confusion matrix from Data. ConfusionMatrix is a class derived from the pycm library\n",
        "print(cm)"
      ],
      "metadata": {
        "id": "WFW6HkKnDajX",
        "outputId": "1940cafd-1343-4653-da29-34a5621602a8",
        "colab": {
          "base_uri": "https://localhost:8080/"
        }
      },
      "execution_count": 43,
      "outputs": [
        {
          "output_type": "stream",
          "name": "stdout",
          "text": [
            "Predict    0          1          2          3          4          5          6          7          8          9          \n",
            "Actual\n",
            "0          972        0          1          0          0          1          3          0          1          2          \n",
            "\n",
            "1          0          1128       1          0          0          0          2          1          3          0          \n",
            "\n",
            "2          3          0          1016       5          1          0          1          4          2          0          \n",
            "\n",
            "3          0          0          3          992        0          3          0          3          3          6          \n",
            "\n",
            "4          1          1          3          0          963        0          3          1          0          10         \n",
            "\n",
            "5          2          0          0          7          1          873        2          1          4          2          \n",
            "\n",
            "6          3          2          1          0          5          3          944        0          0          0          \n",
            "\n",
            "7          1          5          6          0          2          1          0          1007       2          4          \n",
            "\n",
            "8          2          1          2          4          1          2          1          2          956        3          \n",
            "\n",
            "9          2          2          0          3          5          3          2          2          2          988        \n",
            "\n",
            "\n",
            "\n",
            "\n",
            "\n",
            "Overall Statistics : \n",
            "\n",
            "95% CI                                                            (0.98143,0.98637)\n",
            "ACC Macro                                                         0.99678\n",
            "ARI                                                               0.96482\n",
            "AUNP                                                              0.99106\n",
            "AUNU                                                              0.99097\n",
            "Bangdiwala B                                                      0.96833\n",
            "Bennett S                                                         0.98211\n",
            "CBA                                                               0.98201\n",
            "CSI                                                               0.96758\n",
            "Chi-Squared                                                       86791.97274\n",
            "Chi-Squared DF                                                    81\n",
            "Conditional Entropy                                               0.15678\n",
            "Cramer V                                                          0.98202\n",
            "Cross Entropy                                                     3.31944\n",
            "F1 Macro                                                          0.98379\n",
            "F1 Micro                                                          0.9839\n",
            "FNR Macro                                                         0.01626\n",
            "FNR Micro                                                         0.0161\n",
            "FPR Macro                                                         0.00179\n",
            "FPR Micro                                                         0.00179\n",
            "Gwet AC1                                                          0.98211\n",
            "Hamming Loss                                                      0.0161\n",
            "Joint Entropy                                                     3.4762\n",
            "KL Divergence                                                     1e-05\n",
            "Kappa                                                             0.9821\n",
            "Kappa 95% CI                                                      (0.97936,0.98485)\n",
            "Kappa No Prevalence                                               0.9678\n",
            "Kappa Standard Error                                              0.0014\n",
            "Kappa Unbiased                                                    0.9821\n",
            "Krippendorff Alpha                                                0.9821\n",
            "Lambda A                                                          0.98184\n",
            "Lambda B                                                          0.98183\n",
            "Mutual Information                                                3.16248\n",
            "NIR                                                               0.1135\n",
            "NPV Macro                                                         0.99821\n",
            "NPV Micro                                                         0.99821\n",
            "Overall ACC                                                       0.9839\n",
            "Overall CEN                                                       0.03596\n",
            "Overall J                                                         (9.68124,0.96812)\n",
            "Overall MCC                                                       0.9821\n",
            "Overall MCEN                                                      0.06336\n",
            "Overall RACC                                                      0.10036\n",
            "Overall RACCU                                                     0.10036\n",
            "P-Value                                                           None\n",
            "PPV Macro                                                         0.98385\n",
            "PPV Micro                                                         0.9839\n",
            "Pearson C                                                         0.94693\n",
            "Phi-Squared                                                       8.6792\n",
            "RCI                                                               0.95272\n",
            "RR                                                                1000.0\n",
            "Reference Entropy                                                 3.31942\n",
            "Response Entropy                                                  3.31925\n",
            "SOA1(Landis & Koch)                                               Almost Perfect\n",
            "SOA2(Fleiss)                                                      Excellent\n",
            "SOA3(Altman)                                                      Very Good\n",
            "SOA4(Cicchetti)                                                   Excellent\n",
            "SOA5(Cramer)                                                      Very Strong\n",
            "SOA6(Matthews)                                                    Very Strong\n",
            "SOA7(Lambda A)                                                    Very Strong\n",
            "SOA8(Lambda B)                                                    Very Strong\n",
            "SOA9(Krippendorff Alpha)                                          High\n",
            "SOA10(Pearson C)                                                  Strong\n",
            "Scott PI                                                          0.9821\n",
            "Standard Error                                                    0.00126\n",
            "TNR Macro                                                         0.99821\n",
            "TNR Micro                                                         0.99821\n",
            "TPR Macro                                                         0.98374\n",
            "TPR Micro                                                         0.9839\n",
            "Zero-one Loss                                                     161\n",
            "\n",
            "Class Statistics :\n",
            "\n",
            "Classes                                                           0             1             2             3             4             5             6             7             8             9             \n",
            "ACC(Accuracy)                                                     0.9978        0.9982        0.9967        0.9963        0.9966        0.9968        0.9972        0.9965        0.9965        0.9952        \n",
            "AGF(Adjusted F-score)                                             0.99479       0.99612       0.99123       0.98995       0.98968       0.98899       0.9919        0.98933       0.98984       0.98773       \n",
            "AGM(Adjusted geometric mean)                                      0.99671       0.99745       0.9945        0.99373       0.99367       0.99335       0.99501       0.99344       0.99374       0.99229       \n",
            "AM(Difference between automatic and manual classification)        6             4             1             1             -4            -6            0             -7            -1            6             \n",
            "AUC(Area under the ROC curve)                                     0.99514       0.9963        0.9913        0.99003       0.98949       0.98864       0.99192       0.98901       0.98982       0.98809       \n",
            "AUCI(AUC value interpretation)                                    Excellent     Excellent     Excellent     Excellent     Excellent     Excellent     Excellent     Excellent     Excellent     Excellent     \n",
            "AUPR(Area under the PR curve)                                     0.98882       0.99209       0.98402       0.98169       0.98266       0.98201       0.98539       0.98293       0.98202       0.97629       \n",
            "BB(Braun-Blanquet similarity)                                     0.9858        0.99034       0.98354       0.98121       0.98065       0.9787        0.98539       0.97957       0.98152       0.9734        \n",
            "BCD(Bray-Curtis dissimilarity)                                    0.0003        0.0002        5e-05         5e-05         0.0002        0.0003        0.0           0.00035       5e-05         0.0003        \n",
            "BM(Informedness or bookmaker informedness)                        0.99028       0.99259       0.9826        0.98006       0.97899       0.97727       0.98384       0.97801       0.97964       0.97618       \n",
            "CEN(Confusion entropy)                                            0.02665       0.01881       0.036         0.03889       0.03718       0.03986       0.03338       0.03852       0.04165       0.05102       \n",
            "DOR(Diagnostic odds ratio)                                        78159.21429   129705.35065  33434.61765   26021.1462    30420.66316   32145.48583   43481.79592   30682.67347   28145.76471   15619.80952   \n",
            "DP(Discriminant power)                                            2.69764       2.81892       2.49432       2.4343        2.4717        2.48491       2.55723       2.47375       2.45309       2.31209       \n",
            "DPI(Discriminant power interpretation)                            Fair          Fair          Fair          Fair          Fair          Fair          Fair          Fair          Fair          Fair          \n",
            "ERR(Error rate)                                                   0.0022        0.0018        0.0033        0.0037        0.0034        0.0032        0.0028        0.0035        0.0035        0.0048        \n",
            "F0.5(F0.5 score)                                                  0.987         0.99104       0.98373       0.9814        0.98386       0.98399       0.98539       0.98494       0.98233       0.97455       \n",
            "F1(F1 score - harmonic mean of precision and sensitivity)         0.98881       0.99208       0.98402       0.98169       0.98265       0.982         0.98539       0.98292       0.98202       0.97628       \n",
            "F2(F2 score)                                                      0.99062       0.99313       0.98431       0.98198       0.98145       0.98002       0.98539       0.98091       0.98172       0.97802       \n",
            "FDR(False discovery rate)                                         0.0142        0.00966       0.01646       0.01879       0.01534       0.01467       0.01461       0.01371       0.01747       0.0266        \n",
            "FN(False negative/miss/type 2 error)                              8             7             16            18            19            19            14            21            18            21            \n",
            "FNR(Miss rate or false negative rate)                             0.00816       0.00617       0.0155        0.01782       0.01935       0.0213        0.01461       0.02043       0.01848       0.02081       \n",
            "FOR(False omission rate)                                          0.00089       0.00079       0.00178       0.002         0.00211       0.00208       0.00155       0.00234       0.00199       0.00234       \n",
            "FP(False positive/type 1 error/false alarm)                       14            11            17            19            15            13            14            14            17            27            \n",
            "FPR(Fall-out or false positive rate)                              0.00155       0.00124       0.0019        0.00211       0.00166       0.00143       0.00155       0.00156       0.00188       0.003         \n",
            "G(G-measure geometric mean of precision and sensitivity)          0.98881       0.99209       0.98402       0.98169       0.98266       0.98201       0.98539       0.98292       0.98202       0.97629       \n",
            "GI(Gini index)                                                    0.99028       0.99259       0.9826        0.98006       0.97899       0.97727       0.98384       0.97801       0.97964       0.97618       \n",
            "GM(G-mean geometric mean of specificity and sensitivity)          0.99514       0.99629       0.99128       0.99          0.98945       0.98859       0.9919        0.98896       0.98978       0.98805       \n",
            "HD(Hamming distance)                                              22            18            33            37            34            32            28            35            35            48            \n",
            "IBA(Index of balanced accuracy)                                   0.98375       0.98771       0.96926       0.96471       0.96171       0.95788       0.97101       0.95959       0.96341       0.95886       \n",
            "ICSI(Individual classification success index)                     0.97764       0.98418       0.96804       0.96338       0.96531       0.96403       0.97077       0.96586       0.96405       0.95259       \n",
            "IS(Information score)                                             3.33044       3.12524       3.25255       3.2802        3.32583       3.46549       3.36259       3.26217       3.33451       3.27011       \n",
            "J(Jaccard index)                                                  0.97787       0.98429       0.96854       0.96404       0.9659        0.96464       0.97119       0.96641       0.96468       0.95367       \n",
            "LS(Lift score)                                                    10.0592       8.72548       9.53046       9.71492       10.02711      11.04627      10.28587      9.59424       10.08756      9.64717       \n",
            "MCC(Matthews correlation coefficient)                             0.9876        0.99107       0.98218       0.97963       0.98077       0.98025       0.98384       0.98098       0.98009       0.97362       \n",
            "MCCI(Matthews correlation coefficient interpretation)             Very Strong   Very Strong   Very Strong   Very Strong   Very Strong   Very Strong   Very Strong   Very Strong   Very Strong   Very Strong   \n",
            "MCEN(Modified confusion entropy)                                  0.04748       0.0336        0.0635        0.06799       0.06512       0.07006       0.05903       0.06789       0.07358       0.08894       \n",
            "MK(Markedness)                                                    0.98491       0.98955       0.98176       0.9792        0.98256       0.98324       0.98384       0.98395       0.98053       0.97106       \n",
            "N(Condition negative)                                             9020          8865          8968          8990          9018          9108          9042          8972          9026          8991          \n",
            "NLR(Negative likelihood ratio)                                    0.00818       0.00618       0.01553       0.01786       0.01938       0.02133       0.01464       0.02046       0.01852       0.02088       \n",
            "NLRI(Negative likelihood ratio interpretation)                    Good          Good          Good          Good          Good          Good          Good          Good          Good          Good          \n",
            "NPV(Negative predictive value)                                    0.99911       0.99921       0.99822       0.998         0.99789       0.99792       0.99845       0.99766       0.99801       0.99766       \n",
            "OC(Overlap coefficient)                                           0.99184       0.99383       0.9845        0.98218       0.98466       0.98533       0.98539       0.98629       0.98253       0.97919       \n",
            "OOC(Otsuka-Ochiai coefficient)                                    0.98881       0.99209       0.98402       0.98169       0.98266       0.98201       0.98539       0.98292       0.98202       0.97629       \n",
            "OP(Optimized precision)                                           0.99448       0.99573       0.98984       0.98837       0.98766       0.98675       0.99061       0.98696       0.98812       0.98619       \n",
            "P(Condition positive or support)                                  980           1135          1032          1010          982           892           958           1028          974           1009          \n",
            "PLR(Positive likelihood ratio)                                    639.02624     800.93873     519.35066     464.72538     589.56782     685.69196     636.41873     627.7657      521.12912     326.06938     \n",
            "PLRI(Positive likelihood ratio interpretation)                    Good          Good          Good          Good          Good          Good          Good          Good          Good          Good          \n",
            "POP(Population)                                                   10000         10000         10000         10000         10000         10000         10000         10000         10000         10000         \n",
            "PPV(Precision or positive predictive value)                       0.9858        0.99034       0.98354       0.98121       0.98466       0.98533       0.98539       0.98629       0.98253       0.9734        \n",
            "PRE(Prevalence)                                                   0.098         0.1135        0.1032        0.101         0.0982        0.0892        0.0958        0.1028        0.0974        0.1009        \n",
            "Q(Yule Q - coefficient of colligation)                            0.99997       0.99998       0.99994       0.99992       0.99993       0.99994       0.99995       0.99993       0.99993       0.99987       \n",
            "QI(Yule Q interpretation)                                         Strong        Strong        Strong        Strong        Strong        Strong        Strong        Strong        Strong        Strong        \n",
            "RACC(Random accuracy)                                             0.00966       0.01293       0.01066       0.01021       0.0096        0.0079        0.00918       0.0105        0.00948       0.01024       \n",
            "RACCU(Random accuracy unbiased)                                   0.00966       0.01293       0.01066       0.01021       0.0096        0.0079        0.00918       0.0105        0.00948       0.01024       \n",
            "TN(True negative/correct rejection)                               9006          8854          8951          8971          9003          9095          9028          8958          9009          8964          \n",
            "TNR(Specificity or true negative rate)                            0.99845       0.99876       0.9981        0.99789       0.99834       0.99857       0.99845       0.99844       0.99812       0.997         \n",
            "TON(Test outcome negative)                                        9014          8861          8967          8989          9022          9114          9042          8979          9027          8985          \n",
            "TOP(Test outcome positive)                                        986           1139          1033          1011          978           886           958           1021          973           1015          \n",
            "TP(True positive/hit)                                             972           1128          1016          992           963           873           944           1007          956           988           \n",
            "TPR(Sensitivity, recall, hit rate, or true positive rate)         0.99184       0.99383       0.9845        0.98218       0.98065       0.9787        0.98539       0.97957       0.98152       0.97919       \n",
            "Y(Youden index)                                                   0.99028       0.99259       0.9826        0.98006       0.97899       0.97727       0.98384       0.97801       0.97964       0.97618       \n",
            "dInd(Distance index)                                              0.00831       0.00629       0.01562       0.01795       0.01942       0.02135       0.0147        0.02049       0.01858       0.02103       \n",
            "sInd(Similarity index)                                            0.99412       0.99555       0.98896       0.98731       0.98627       0.9849        0.98961       0.98551       0.98686       0.98513       \n",
            "\n"
          ]
        },
        {
          "output_type": "stream",
          "name": "stderr",
          "text": [
            "/usr/local/lib/python3.10/dist-packages/pycm/cm.py:217: RuntimeWarning: Confusion matrix is high-dimensional and may not display properly. Consider using the `sparse` flag in printing functions, or save it as a CSV file for better visualization.\n",
            "  warn(CLASS_NUMBER_WARNING, RuntimeWarning)\n"
          ]
        }
      ]
    },
    {
      "cell_type": "code",
      "source": [
        "from sklearn.metrics import ConfusionMatrixDisplay\n",
        "from sklearn.metrics import accuracy_score, precision_score, recall_score, f1_score, ConfusionMatrixDisplay, confusion_matrix\n",
        "\n",
        "Matrix = confusion_matrix(y_gt,y_pred)\n",
        "\n",
        "\n",
        "disp = ConfusionMatrixDisplay(confusion_matrix=Matrix)\n",
        "disp.plot()\n",
        "\n",
        "# fig, ax = plt.subplots(figsize=(6,6))\n",
        "##\n",
        "##"
      ],
      "metadata": {
        "id": "T8dGYJ0UDajY",
        "outputId": "d97db41a-d95c-4d4b-9fbc-d7d45145c821",
        "colab": {
          "base_uri": "https://localhost:8080/",
          "height": 467
        }
      },
      "execution_count": 47,
      "outputs": [
        {
          "output_type": "execute_result",
          "data": {
            "text/plain": [
              "<sklearn.metrics._plot.confusion_matrix.ConfusionMatrixDisplay at 0x7822bbdf0190>"
            ]
          },
          "metadata": {},
          "execution_count": 47
        },
        {
          "output_type": "display_data",
          "data": {
            "text/plain": [
              "<Figure size 640x480 with 2 Axes>"
            ],
            "image/png": "[encoded data removed]"
          },
          "metadata": {}
        }
      ]
    },
    {
      "cell_type": "code",
      "source": [],
      "metadata": {
        "id": "RMZiet5pIGGT"
      },
      "execution_count": null,
      "outputs": []
    }
  ]
}